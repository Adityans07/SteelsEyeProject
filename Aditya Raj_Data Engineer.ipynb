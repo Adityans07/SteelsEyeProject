{
 "cells": [
  {
   "cell_type": "code",
   "execution_count": 1,
   "id": "28bf41f2",
   "metadata": {},
   "outputs": [],
   "source": [
    "import numpy as np\n",
    "import matplotlib.pyplot as plt\n",
    "import seaborn as sns\n",
    "import plotly.express as px\n",
    "from sklearn.model_selection import train_test_split"
   ]
  },
  {
   "cell_type": "code",
   "execution_count": 2,
   "id": "509223d6",
   "metadata": {},
   "outputs": [],
   "source": [
    "import xml.etree.ElementTree as ET\n",
    "import pandas as pd  \n",
    "# Initializing Column names.\n",
    "cols = [\"Id\",\n",
    "        \"FullNm\",\n",
    "        \"ClssfctnTp\",\n",
    "        \"CmmdtyDerivInd\",\n",
    "        \"NtnlCcy\",\n",
    "        \"Issr\"]\n",
    "rows = []\n",
    "\n",
    "#Parse XML file\n",
    "tree = ET.parse('FILE.xml')\n",
    "root = tree.getroot()"
   ]
  },
  {
   "cell_type": "code",
   "execution_count": 3,
   "id": "7857174d",
   "metadata": {},
   "outputs": [],
   "source": [
    "# Initializing variable m for iteration of FinInstrm tags\n",
    "m = 1 \n",
    "while(m<len(root[1][0][0])):\n",
    "    # Initializing variable i for iteration to find column datas\n",
    "    i = 0\n",
    "    while i<6:\n",
    "        if i == 0:\n",
    "            Id = root[1][0][0][m][0][0][i].text\n",
    "        elif i == 1:\n",
    "            FullNm = root[1][0][0][m][0][0][i].text\n",
    "        elif i == 3:\n",
    "            ClssfctnTp = root[1][0][0][m][0][0][i].text\n",
    "        elif i == 4:\n",
    "            NtnlCcy = root[1][0][0][m][0][0][i].text\n",
    "        elif i == 5:\n",
    "            CmmdtyDerivInd = root[1][0][0][m][0][0][i].text\n",
    "        i += 1         # Increment i\n",
    "    Issr = root[1][0][0][m][0][1].text\n",
    "    rows.append({\"Id\":Id,\"FullNm\":FullNm,\n",
    "                 \"ClssfctnTp\":ClssfctnTp,\n",
    "                 \"NtnlCcy\":NtnlCcy,\n",
    "                 \"CmmdtyDerivInd\":CmmdtyDerivInd,\n",
    "                 \"Issr\":Issr}\n",
    "               )\n",
    "    m += 1            # Increment m\n",
    "df = pd.DataFrame(rows, columns = cols)\n",
    "df.to_csv('company.csv',index = False)"
   ]
  },
  {
   "cell_type": "code",
   "execution_count": 4,
   "id": "287418f5",
   "metadata": {},
   "outputs": [],
   "source": [
    "df = pd.read_csv(\"company.csv\")"
   ]
  },
  {
   "cell_type": "code",
   "execution_count": 5,
   "id": "897e76c5",
   "metadata": {},
   "outputs": [
    {
     "data": {
      "text/html": [
       "<div>\n",
       "<style scoped>\n",
       "    .dataframe tbody tr th:only-of-type {\n",
       "        vertical-align: middle;\n",
       "    }\n",
       "\n",
       "    .dataframe tbody tr th {\n",
       "        vertical-align: top;\n",
       "    }\n",
       "\n",
       "    .dataframe thead th {\n",
       "        text-align: right;\n",
       "    }\n",
       "</style>\n",
       "<table border=\"1\" class=\"dataframe\">\n",
       "  <thead>\n",
       "    <tr style=\"text-align: right;\">\n",
       "      <th></th>\n",
       "      <th>Id</th>\n",
       "      <th>FullNm</th>\n",
       "      <th>ClssfctnTp</th>\n",
       "      <th>CmmdtyDerivInd</th>\n",
       "      <th>NtnlCcy</th>\n",
       "      <th>Issr</th>\n",
       "    </tr>\n",
       "  </thead>\n",
       "  <tbody>\n",
       "    <tr>\n",
       "      <th>0</th>\n",
       "      <td>DE000A1R07V3</td>\n",
       "      <td>Kreditanst.f.Wiederaufbau     Anl.v.2014 (2021)</td>\n",
       "      <td>DBFTFB</td>\n",
       "      <td>False</td>\n",
       "      <td>EUR</td>\n",
       "      <td>549300GDPG70E3MBBU98</td>\n",
       "    </tr>\n",
       "    <tr>\n",
       "      <th>1</th>\n",
       "      <td>DE000A1R07V3</td>\n",
       "      <td>KFW 1 5/8 01/15/21</td>\n",
       "      <td>DBFTFB</td>\n",
       "      <td>False</td>\n",
       "      <td>EUR</td>\n",
       "      <td>549300GDPG70E3MBBU98</td>\n",
       "    </tr>\n",
       "    <tr>\n",
       "      <th>2</th>\n",
       "      <td>DE000A1R07V3</td>\n",
       "      <td>Kreditanst.f.Wiederaufbau Anl.v.2014 (2021)</td>\n",
       "      <td>DBFTFB</td>\n",
       "      <td>False</td>\n",
       "      <td>EUR</td>\n",
       "      <td>549300GDPG70E3MBBU98</td>\n",
       "    </tr>\n",
       "    <tr>\n",
       "      <th>3</th>\n",
       "      <td>DE000A1R07V3</td>\n",
       "      <td>Kreditanst.f.Wiederaufbau Anl.v.2014 (2021)</td>\n",
       "      <td>DBFTFB</td>\n",
       "      <td>False</td>\n",
       "      <td>EUR</td>\n",
       "      <td>549300GDPG70E3MBBU98</td>\n",
       "    </tr>\n",
       "    <tr>\n",
       "      <th>4</th>\n",
       "      <td>DE000A1X3J56</td>\n",
       "      <td>IKB Deutsche Industriebank AG Stufenz.MTN-IHS ...</td>\n",
       "      <td>DTVUFB</td>\n",
       "      <td>False</td>\n",
       "      <td>EUR</td>\n",
       "      <td>PWEFG14QWWESISQ84C69</td>\n",
       "    </tr>\n",
       "  </tbody>\n",
       "</table>\n",
       "</div>"
      ],
      "text/plain": [
       "             Id                                             FullNm ClssfctnTp  \\\n",
       "0  DE000A1R07V3    Kreditanst.f.Wiederaufbau     Anl.v.2014 (2021)     DBFTFB   \n",
       "1  DE000A1R07V3                                 KFW 1 5/8 01/15/21     DBFTFB   \n",
       "2  DE000A1R07V3        Kreditanst.f.Wiederaufbau Anl.v.2014 (2021)     DBFTFB   \n",
       "3  DE000A1R07V3        Kreditanst.f.Wiederaufbau Anl.v.2014 (2021)     DBFTFB   \n",
       "4  DE000A1X3J56  IKB Deutsche Industriebank AG Stufenz.MTN-IHS ...     DTVUFB   \n",
       "\n",
       "   CmmdtyDerivInd NtnlCcy                  Issr  \n",
       "0           False     EUR  549300GDPG70E3MBBU98  \n",
       "1           False     EUR  549300GDPG70E3MBBU98  \n",
       "2           False     EUR  549300GDPG70E3MBBU98  \n",
       "3           False     EUR  549300GDPG70E3MBBU98  \n",
       "4           False     EUR  PWEFG14QWWESISQ84C69  "
      ]
     },
     "execution_count": 5,
     "metadata": {},
     "output_type": "execute_result"
    }
   ],
   "source": [
    "df.head()"
   ]
  },
  {
   "cell_type": "code",
   "execution_count": null,
   "id": "03673e2b",
   "metadata": {},
   "outputs": [],
   "source": []
  }
 ],
 "metadata": {
  "kernelspec": {
   "display_name": "Python 3",
   "language": "python",
   "name": "python3"
  },
  "language_info": {
   "codemirror_mode": {
    "name": "ipython",
    "version": 3
   },
   "file_extension": ".py",
   "mimetype": "text/x-python",
   "name": "python",
   "nbconvert_exporter": "python",
   "pygments_lexer": "ipython3",
   "version": "3.9.5"
  }
 },
 "nbformat": 4,
 "nbformat_minor": 5
}
